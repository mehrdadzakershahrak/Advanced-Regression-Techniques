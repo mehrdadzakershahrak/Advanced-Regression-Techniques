{
 "cells": [
  {
   "cell_type": "code",
   "execution_count": 96,
   "id": "9284a9a2-00bb-4695-af38-0867888d3519",
   "metadata": {},
   "outputs": [],
   "source": [
    "import pandas as pd"
   ]
  },
  {
   "cell_type": "code",
   "execution_count": 212,
   "id": "82ee53e2-3690-4a14-801e-d8f63d551238",
   "metadata": {},
   "outputs": [],
   "source": [
    "train = pd.read_csv('train.csv')\n",
    "test = pd.read_csv('test.csv')\n",
    "y_train = train['SalePrice']\n",
    "x_train = train.drop(['SalePrice'],axis=1)"
   ]
  },
  {
   "cell_type": "markdown",
   "id": "f5554f89-ac8d-4418-b16e-638a9b1b23b6",
   "metadata": {},
   "source": [
    "Replace Nan with most frequent value of the feature for train and test"
   ]
  },
  {
   "cell_type": "code",
   "execution_count": 213,
   "id": "f3c65ec3-1b1e-434c-b99f-4a2c1153ce57",
   "metadata": {
    "tags": []
   },
   "outputs": [],
   "source": [
    "import numpy as np\n",
    "from sklearn.impute import SimpleImputer\n",
    "imp = SimpleImputer(strategy=\"most_frequent\")\n",
    "x_train = imp.fit_transform(x_train)\n",
    "test_id = test['Id']\n",
    "test = imp.fit_transform(test)"
   ]
  },
  {
   "cell_type": "markdown",
   "id": "bf9bb5c0-08f2-48b0-8712-fc03659aff6a",
   "metadata": {},
   "source": [
    "### Applied ordinal encoder on train and test\n"
   ]
  },
  {
   "cell_type": "code",
   "execution_count": 194,
   "id": "2e1cc1c1-a351-4d2b-a5a3-e4d03c9e147a",
   "metadata": {},
   "outputs": [],
   "source": [
    "from sklearn.preprocessing import OneHotEncoder\n",
    "from sklearn.preprocessing import OrdinalEncoder\n",
    "onehot = OneHotEncoder()\n",
    "ordinal = OrdinalEncoder()\n",
    "hotVtrain = ordinal.fit_transform(x_train)\n",
    "hotVtest = ordinal.fit_transform(test)"
   ]
  },
  {
   "cell_type": "markdown",
   "id": "9def40ef-7bcd-41b7-8a96-d60aa16bcaf0",
   "metadata": {},
   "source": [
    "### Applied Random Forest Regression"
   ]
  },
  {
   "cell_type": "code",
   "execution_count": 195,
   "id": "7d71e663-2bdd-44b8-b6b5-9a4f7588f5e0",
   "metadata": {},
   "outputs": [],
   "source": [
    "from sklearn.ensemble import RandomForestRegressor"
   ]
  },
  {
   "cell_type": "code",
   "execution_count": 196,
   "id": "7f7e18d9-70af-4c8c-8a43-aa1b614d28e3",
   "metadata": {},
   "outputs": [
    {
     "data": {
      "text/plain": [
       "RandomForestRegressor(n_estimators=1000, random_state=42)"
      ]
     },
     "execution_count": 196,
     "metadata": {},
     "output_type": "execute_result"
    }
   ],
   "source": [
    "rf = RandomForestRegressor(n_estimators=1000, random_state=42)\n",
    "rf.fit(hotVtrain, hotVtest)"
   ]
  },
  {
   "cell_type": "markdown",
   "id": "f0748f4a-7686-42c6-8ed7-fa3758b71985",
   "metadata": {},
   "source": [
    "### Saved to CSV\n",
    "and Converted the numpy hotVtest to pandas dataframe"
   ]
  },
  {
   "cell_type": "code",
   "execution_count": 150,
   "id": "3e0bb23e-0b42-4637-b7cd-9d3ea8c36a6c",
   "metadata": {},
   "outputs": [],
   "source": [
    "predicted = rf.predict(hotVtest)\n",
    "#np.savetxt(\"output.csv\",predicted_test,delimiter=\",\", header=\"Id, SalePrice\")\n",
    "predicted_pandas = pd.DataFrame(predicted)\n",
    "\n",
    "frames = [test_id, predicted_pandas]\n",
    "result = pd.concat(frames, axis=1)\n",
    "result.columns = ['Id','SalePrice']\n",
    "result.to_csv(\"output.csv\",index=False)"
   ]
  },
  {
   "cell_type": "markdown",
   "id": "2348ccd5-7cf2-4da2-9d62-22abc7b0d6b8",
   "metadata": {},
   "source": [
    "### r2 Score is good\n",
    "the Kaggle score is 0.149"
   ]
  },
  {
   "cell_type": "code",
   "execution_count": 132,
   "id": "0906cf92-3482-484a-835a-c50f60bffc46",
   "metadata": {},
   "outputs": [
    {
     "data": {
      "text/plain": [
       "0.9796857833247454"
      ]
     },
     "execution_count": 132,
     "metadata": {},
     "output_type": "execute_result"
    }
   ],
   "source": [
    "predict_train = rf.predict(hotVtrain)\n",
    "from sklearn import metrics\n",
    "metrics.r2_score(predict_train, y_train)"
   ]
  },
  {
   "cell_type": "markdown",
   "id": "f71db331-72a3-4124-bff2-31f598ecb3df",
   "metadata": {},
   "source": [
    "## Parameters Tuning"
   ]
  },
  {
   "cell_type": "code",
   "execution_count": 161,
   "id": "2e854835-481c-4037-b558-615b841ea35e",
   "metadata": {},
   "outputs": [
    {
     "name": "stdout",
     "output_type": "stream",
     "text": [
      "{'bootstrap': [True, False],\n",
      " 'max_depth': [10, 20, 30, 40, 50, 60, 70, 80, 90, 100, 110, None],\n",
      " 'max_features': ['auto', 'sqrt'],\n",
      " 'min_samples_leaf': [1, 2, 4],\n",
      " 'min_samples_split': [2, 5, 10],\n",
      " 'n_estimators': [200, 400, 600, 800, 1000, 1200, 1400, 1600, 1800, 2000]}\n"
     ]
    }
   ],
   "source": [
    "from pprint import pprint\n",
    "#pprint(rf.get_params())\n",
    "n_estimators = [int(x) for x in np.linspace(start = 200, stop = 2000, num = 10)]\n",
    "# Number of features to consider at every split\n",
    "max_features = ['auto', 'sqrt']\n",
    "# Maximum number of levels in tree\n",
    "max_depth = [int(x) for x in np.linspace(10, 110, num = 11)]\n",
    "max_depth.append(None)\n",
    "# Minimum number of samples required to split a node\n",
    "min_samples_split = [2, 5, 10]\n",
    "# Minimum number of samples required at each leaf node\n",
    "min_samples_leaf = [1, 2, 4]\n",
    "# Method of selecting samples for training each tree\n",
    "bootstrap = [True, False]\n",
    "# Create the random grid\n",
    "random_grid = {'n_estimators': n_estimators,\n",
    "               'max_features': max_features,\n",
    "               'max_depth': max_depth,\n",
    "               'min_samples_split': min_samples_split,\n",
    "               'min_samples_leaf': min_samples_leaf,\n",
    "               'bootstrap': bootstrap}\n",
    "pprint(random_grid)"
   ]
  },
  {
   "cell_type": "code",
   "execution_count": 164,
   "id": "4a8486b0-e053-4ef1-a3ae-1c56eaeddf3c",
   "metadata": {},
   "outputs": [
    {
     "name": "stdout",
     "output_type": "stream",
     "text": [
      "Fitting 3 folds for each of 100 candidates, totalling 300 fits\n"
     ]
    },
    {
     "data": {
      "text/plain": [
       "RandomizedSearchCV(cv=3, estimator=RandomForestRegressor(), n_iter=100,\n",
       "                   n_jobs=-1,\n",
       "                   param_distributions={'bootstrap': [True, False],\n",
       "                                        'max_depth': [10, 20, 30, 40, 50, 60,\n",
       "                                                      70, 80, 90, 100, 110,\n",
       "                                                      None],\n",
       "                                        'max_features': ['auto', 'sqrt'],\n",
       "                                        'min_samples_leaf': [1, 2, 4],\n",
       "                                        'min_samples_split': [2, 5, 10],\n",
       "                                        'n_estimators': [200, 400, 600, 800,\n",
       "                                                         1000, 1200, 1400, 1600,\n",
       "                                                         1800, 2000]},\n",
       "                   random_state=42, verbose=2)"
      ]
     },
     "execution_count": 164,
     "metadata": {},
     "output_type": "execute_result"
    }
   ],
   "source": [
    "# Use the random grid to search for best hyperparameters\n",
    "# First create the base model to tune\n",
    "rf = RandomForestRegressor()\n",
    "# Random search of parameters, using 3 fold cross validation, \n",
    "# search across 100 different combinations, and use all available cores\n",
    "from sklearn.model_selection import RandomizedSearchCV\n",
    "rf_random = RandomizedSearchCV(estimator = rf, param_distributions = random_grid, n_iter = 100, cv = 3, verbose=2, random_state=42, n_jobs = -1)\n",
    "# Fit the random search model\n",
    "rf_random.fit(hotVtrain,y_train)"
   ]
  },
  {
   "cell_type": "code",
   "execution_count": 168,
   "id": "44793796-16f5-4d7b-a732-991cebd248eb",
   "metadata": {},
   "outputs": [
    {
     "data": {
      "text/plain": [
       "{'n_estimators': 400,\n",
       " 'min_samples_split': 2,\n",
       " 'min_samples_leaf': 1,\n",
       " 'max_features': 'sqrt',\n",
       " 'max_depth': None,\n",
       " 'bootstrap': False}"
      ]
     },
     "execution_count": 168,
     "metadata": {},
     "output_type": "execute_result"
    }
   ],
   "source": [
    "rf_random.best_params_\n"
   ]
  },
  {
   "cell_type": "code",
   "execution_count": 169,
   "id": "3699e7e0-8534-4f4c-af7a-0c06b8ecb388",
   "metadata": {},
   "outputs": [],
   "source": [
    "# Output to CSV again\n",
    "predictedRandom = rf_random.predict(hotVtest)\n",
    "#np.savetxt(\"output.csv\",predicted_test,delimiter=\",\", header=\"Id, SalePrice\")\n",
    "predicted_pandas = pd.DataFrame(predictedRandom)\n",
    "\n",
    "frames = [test_id, predicted_pandas]\n",
    "result = pd.concat(frames, axis=1)\n",
    "result.columns = ['Id','SalePrice']\n",
    "result.to_csv(\"output2.csv\",index=False)"
   ]
  },
  {
   "cell_type": "markdown",
   "id": "1f12e80c-9db4-4f62-93b8-10bae94c6244",
   "metadata": {},
   "source": [
    "### R2 Score is very Good!\n",
    "the Kaggle score is 0.148"
   ]
  },
  {
   "cell_type": "code",
   "execution_count": 171,
   "id": "ffa010e2-3203-492e-af0c-3ddf8de8c43e",
   "metadata": {},
   "outputs": [
    {
     "data": {
      "text/plain": [
       "0.9999999993388834"
      ]
     },
     "execution_count": 171,
     "metadata": {},
     "output_type": "execute_result"
    }
   ],
   "source": [
    "predict_train = rf_random.predict(hotVtrain)\n",
    "from sklearn import metrics\n",
    "metrics.r2_score(predict_train, y_train)"
   ]
  },
  {
   "cell_type": "markdown",
   "id": "863f1aa7-8df8-4ce4-a4de-7bacb8a30579",
   "metadata": {},
   "source": [
    "### XGBoost"
   ]
  },
  {
   "cell_type": "code",
   "execution_count": 197,
   "id": "550f8004-6411-4ebe-8193-230c5b6d7966",
   "metadata": {},
   "outputs": [
    {
     "name": "stdout",
     "output_type": "stream",
     "text": [
      "Mean MAE: 17307.632 (1705.613)\n"
     ]
    }
   ],
   "source": [
    "from xgboost import XGBRegressor\n",
    "from sklearn.model_selection import RepeatedKFold\n",
    "from sklearn.model_selection import cross_val_score\n",
    "from numpy import absolute\n",
    "# define model\n",
    "xgbmodel = XGBRegressor()\n",
    "# define model evaluation method\n",
    "cv = RepeatedKFold(n_splits=10, n_repeats=3, random_state=1)\n",
    "# evaluate model\n",
    "scores = cross_val_score(xgbmodel, hotVtrain, y_train, scoring='neg_mean_absolute_error', cv=cv, n_jobs=-1)\n",
    "# force scores to be positive\n",
    "scores = absolute(scores)\n",
    "print('Mean MAE: %.3f (%.3f)' % (scores.mean(), scores.std()) )"
   ]
  },
  {
   "cell_type": "code",
   "execution_count": 198,
   "id": "228c7084-2b97-43b2-8906-5b4a5d2243ce",
   "metadata": {},
   "outputs": [],
   "source": [
    "xgbmodel.fit(hotVtrain,y_train)\n",
    "predicted_xgb = xgbmodel.predict(hotVtest)"
   ]
  },
  {
   "cell_type": "code",
   "execution_count": 199,
   "id": "4425b4d2-aee0-4ae6-b2f6-3624e20d0705",
   "metadata": {},
   "outputs": [],
   "source": [
    "# Output to CSV again\n",
    "predicted_pandas = pd.DataFrame(predicted_xgb)\n",
    "\n",
    "frames = [test_id, predicted_pandas]\n",
    "result = pd.concat(frames, axis=1)\n",
    "result.columns = ['Id','SalePrice']\n",
    "result.to_csv(\"output3.csv\",index=False)"
   ]
  },
  {
   "cell_type": "markdown",
   "id": "c4f236af-ab8b-4a99-8de6-3833821ab5ce",
   "metadata": {},
   "source": [
    "Kaggle score is 0.147"
   ]
  },
  {
   "cell_type": "markdown",
   "id": "4b30d1fa-4213-47ca-b30c-2d3d3faeff7a",
   "metadata": {},
   "source": []
  },
  {
   "cell_type": "code",
   "execution_count": null,
   "id": "f8440344-a37a-47ef-a6c2-5b4c1b2d096e",
   "metadata": {},
   "outputs": [],
   "source": []
  }
 ],
 "metadata": {
  "kernelspec": {
   "display_name": "Python 3 (ipykernel)",
   "language": "python",
   "name": "python3"
  },
  "language_info": {
   "codemirror_mode": {
    "name": "ipython",
    "version": 3
   },
   "file_extension": ".py",
   "mimetype": "text/x-python",
   "name": "python",
   "nbconvert_exporter": "python",
   "pygments_lexer": "ipython3",
   "version": "3.7.3"
  }
 },
 "nbformat": 4,
 "nbformat_minor": 5
}
